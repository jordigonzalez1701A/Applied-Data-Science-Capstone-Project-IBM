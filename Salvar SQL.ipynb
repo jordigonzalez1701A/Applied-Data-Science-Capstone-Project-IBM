{
 "cells": [
  {
   "cell_type": "code",
   "execution_count": null,
   "metadata": {},
   "outputs": [],
   "source": [
    "import pandas as pd \n",
    "import numpy as np \n"
   ]
  },
  {
   "cell_type": "code",
   "execution_count": null,
   "metadata": {},
   "outputs": [],
   "source": [
    "print('Hello')"
   ]
  },
  {
   "cell_type": "code",
   "execution_count": null,
   "metadata": {},
   "outputs": [],
   "source": [
    "df = pd.read_csv(path = 'C:\\\\Users\\\\Jordi\\\\Documents\\\\Certificats Coursera\\\\IBM curs 5C:\\\\Users\\\\Jordi\\\\Documents\\\\Certificats Coursera\\\\IBM curs 5\\Spacex')"
   ]
  },
  {
   "cell_type": "code",
   "execution_count": null,
   "metadata": {},
   "outputs": [],
   "source": [
    "df['Launch_Site'].unique()"
   ]
  },
  {
   "cell_type": "code",
   "execution_count": null,
   "metadata": {},
   "outputs": [],
   "source": [
    "mask = 'CCA' in df['Launch_Site']\n",
    "\n",
    "df[mask].head()"
   ]
  },
  {
   "cell_type": "code",
   "execution_count": null,
   "metadata": {},
   "outputs": [],
   "source": [
    "df_NASA = df[df['Customer'] == 'NASA (CRS)']\n",
    "df_NASA['Payload_Mass'].sum()"
   ]
  },
  {
   "cell_type": "code",
   "execution_count": null,
   "metadata": {},
   "outputs": [],
   "source": [
    "mask = df['Booster_Version'] == 'F9 v1.1'\n",
    "df_F9 = df[mask]\n",
    "df_F9.mean()"
   ]
  }
 ],
 "metadata": {
  "kernelspec": {
   "display_name": "Python 3",
   "language": "python",
   "name": "python3"
  },
  "language_info": {
   "name": "python",
   "version": "3.7.9 (tags/v3.7.9:13c94747c7, Aug 17 2020, 16:30:00) [MSC v.1900 64 bit (AMD64)]"
  },
  "orig_nbformat": 4,
  "vscode": {
   "interpreter": {
    "hash": "08300c9bc729a6ea3586e4d9151bd8d25fbcc2bdfda9f05ed80267a2edf4b19e"
   }
  }
 },
 "nbformat": 4,
 "nbformat_minor": 2
}
