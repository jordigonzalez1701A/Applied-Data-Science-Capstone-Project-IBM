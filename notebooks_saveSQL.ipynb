{
  "metadata": {
    "language_info": {
      "codemirror_mode": {
        "name": "python",
        "version": 3
      },
      "file_extension": ".py",
      "mimetype": "text/x-python",
      "name": "python",
      "nbconvert_exporter": "python",
      "pygments_lexer": "ipython3",
      "version": "3.8"
    },
    "kernelspec": {
      "name": "python",
      "display_name": "Python (Pyodide)",
      "language": "python"
    }
  },
  "nbformat_minor": 4,
  "nbformat": 4,
  "cells": [
    {
      "cell_type": "code",
      "source": "import pandas as pd \nimport numpy as np ",
      "metadata": {
        "trusted": true
      },
      "execution_count": 1,
      "outputs": []
    },
    {
      "cell_type": "code",
      "source": "df = pd.read_csv('Spacex.csv', parse_dates = True, infer_datetime_format = True)",
      "metadata": {
        "trusted": true
      },
      "execution_count": 22,
      "outputs": []
    },
    {
      "cell_type": "code",
      "source": "df['Date']=pd.to_datetime(df['Date'])\ndf.dtypes",
      "metadata": {
        "trusted": true
      },
      "execution_count": 24,
      "outputs": [
        {
          "name": "stderr",
          "text": "<ipython-input-24-68bffd25b021>:1: UserWarning: Parsing dates in DD/MM/YYYY format when dayfirst=False (the default) was specified. This may lead to inconsistently parsed dates! Specify a format to ensure consistent parsing.\n  df['Date']=pd.to_datetime(df['Date'])\n",
          "output_type": "stream"
        },
        {
          "execution_count": 24,
          "output_type": "execute_result",
          "data": {
            "text/plain": "Date                 datetime64[ns]\nTime (UTC)                   object\nBooster_Version              object\nLaunch_Site                  object\nPayload                      object\nPAYLOAD_MASS__KG_             int64\nOrbit                        object\nCustomer                     object\nMission_Outcome              object\nLanding _Outcome             object\ndtype: object"
          },
          "metadata": {}
        }
      ]
    },
    {
      "cell_type": "code",
      "source": "df['Launch_Site'].unique()",
      "metadata": {
        "trusted": true
      },
      "execution_count": 25,
      "outputs": [
        {
          "execution_count": 25,
          "output_type": "execute_result",
          "data": {
            "text/plain": "array(['CCAFS LC-40', 'VAFB SLC-4E', 'KSC LC-39A', 'CCAFS SLC-40'],\n      dtype=object)"
          },
          "metadata": {}
        }
      ]
    },
    {
      "cell_type": "code",
      "source": "mask = (df['Launch_Site'] == 'CCAFS LC-40') | (df['Launch_Site'] == 'CCAFS SLC-40')\n\ndf[mask].head()",
      "metadata": {
        "trusted": true
      },
      "execution_count": 26,
      "outputs": [
        {
          "execution_count": 26,
          "output_type": "execute_result",
          "data": {
            "text/plain": "        Date Time (UTC) Booster_Version  Launch_Site  \\\n0 2010-04-06   18:45:00  F9 v1.0  B0003  CCAFS LC-40   \n1 2010-08-12   15:43:00  F9 v1.0  B0004  CCAFS LC-40   \n2 2012-05-22   07:44:00  F9 v1.0  B0005  CCAFS LC-40   \n3 2012-08-10   00:35:00  F9 v1.0  B0006  CCAFS LC-40   \n4 2013-01-03   15:10:00  F9 v1.0  B0007  CCAFS LC-40   \n\n                                             Payload  PAYLOAD_MASS__KG_  \\\n0               Dragon Spacecraft Qualification Unit                  0   \n1  Dragon demo flight C1, two CubeSats, barrel of...                  0   \n2                              Dragon demo flight C2                525   \n3                                       SpaceX CRS-1                500   \n4                                       SpaceX CRS-2                677   \n\n       Orbit         Customer Mission_Outcome     Landing _Outcome  \n0        LEO           SpaceX         Success  Failure (parachute)  \n1  LEO (ISS)  NASA (COTS) NRO         Success  Failure (parachute)  \n2  LEO (ISS)      NASA (COTS)         Success           No attempt  \n3  LEO (ISS)       NASA (CRS)         Success           No attempt  \n4  LEO (ISS)       NASA (CRS)         Success           No attempt  ",
            "text/html": "<div>\n<style scoped>\n    .dataframe tbody tr th:only-of-type {\n        vertical-align: middle;\n    }\n\n    .dataframe tbody tr th {\n        vertical-align: top;\n    }\n\n    .dataframe thead th {\n        text-align: right;\n    }\n</style>\n<table border=\"1\" class=\"dataframe\">\n  <thead>\n    <tr style=\"text-align: right;\">\n      <th></th>\n      <th>Date</th>\n      <th>Time (UTC)</th>\n      <th>Booster_Version</th>\n      <th>Launch_Site</th>\n      <th>Payload</th>\n      <th>PAYLOAD_MASS__KG_</th>\n      <th>Orbit</th>\n      <th>Customer</th>\n      <th>Mission_Outcome</th>\n      <th>Landing _Outcome</th>\n    </tr>\n  </thead>\n  <tbody>\n    <tr>\n      <th>0</th>\n      <td>2010-04-06</td>\n      <td>18:45:00</td>\n      <td>F9 v1.0  B0003</td>\n      <td>CCAFS LC-40</td>\n      <td>Dragon Spacecraft Qualification Unit</td>\n      <td>0</td>\n      <td>LEO</td>\n      <td>SpaceX</td>\n      <td>Success</td>\n      <td>Failure (parachute)</td>\n    </tr>\n    <tr>\n      <th>1</th>\n      <td>2010-08-12</td>\n      <td>15:43:00</td>\n      <td>F9 v1.0  B0004</td>\n      <td>CCAFS LC-40</td>\n      <td>Dragon demo flight C1, two CubeSats, barrel of...</td>\n      <td>0</td>\n      <td>LEO (ISS)</td>\n      <td>NASA (COTS) NRO</td>\n      <td>Success</td>\n      <td>Failure (parachute)</td>\n    </tr>\n    <tr>\n      <th>2</th>\n      <td>2012-05-22</td>\n      <td>07:44:00</td>\n      <td>F9 v1.0  B0005</td>\n      <td>CCAFS LC-40</td>\n      <td>Dragon demo flight C2</td>\n      <td>525</td>\n      <td>LEO (ISS)</td>\n      <td>NASA (COTS)</td>\n      <td>Success</td>\n      <td>No attempt</td>\n    </tr>\n    <tr>\n      <th>3</th>\n      <td>2012-08-10</td>\n      <td>00:35:00</td>\n      <td>F9 v1.0  B0006</td>\n      <td>CCAFS LC-40</td>\n      <td>SpaceX CRS-1</td>\n      <td>500</td>\n      <td>LEO (ISS)</td>\n      <td>NASA (CRS)</td>\n      <td>Success</td>\n      <td>No attempt</td>\n    </tr>\n    <tr>\n      <th>4</th>\n      <td>2013-01-03</td>\n      <td>15:10:00</td>\n      <td>F9 v1.0  B0007</td>\n      <td>CCAFS LC-40</td>\n      <td>SpaceX CRS-2</td>\n      <td>677</td>\n      <td>LEO (ISS)</td>\n      <td>NASA (CRS)</td>\n      <td>Success</td>\n      <td>No attempt</td>\n    </tr>\n  </tbody>\n</table>\n</div>"
          },
          "metadata": {}
        }
      ]
    },
    {
      "cell_type": "code",
      "source": "df_NASA = df[df['Customer'] == 'NASA (CRS)']\ndf_NASA['PAYLOAD_MASS__KG_'].sum()",
      "metadata": {
        "trusted": true
      },
      "execution_count": 27,
      "outputs": [
        {
          "execution_count": 27,
          "output_type": "execute_result",
          "data": {
            "text/plain": "45596"
          },
          "metadata": {}
        }
      ]
    },
    {
      "cell_type": "code",
      "source": "mask = df['Booster_Version'] == 'F9 v1.1'\ndf_F9 = df[mask]\ndf_F9['PAYLOAD_MASS__KG_'].mean()",
      "metadata": {
        "trusted": true
      },
      "execution_count": 28,
      "outputs": [
        {
          "execution_count": 28,
          "output_type": "execute_result",
          "data": {
            "text/plain": "2928.4"
          },
          "metadata": {}
        }
      ]
    },
    {
      "cell_type": "code",
      "source": "df.columns",
      "metadata": {
        "trusted": true
      },
      "execution_count": 34,
      "outputs": [
        {
          "execution_count": 34,
          "output_type": "execute_result",
          "data": {
            "text/plain": "Index(['Date', 'Time (UTC)', 'Booster_Version', 'Launch_Site', 'Payload',\n       'PAYLOAD_MASS__KG_', 'Orbit', 'Customer', 'Mission_Outcome',\n       'Landing _Outcome'],\n      dtype='object')"
          },
          "metadata": {}
        }
      ]
    },
    {
      "cell_type": "code",
      "source": "df['Landing _Outcome']",
      "metadata": {
        "trusted": true
      },
      "execution_count": 35,
      "outputs": [
        {
          "execution_count": 35,
          "output_type": "execute_result",
          "data": {
            "text/plain": "0      Failure (parachute)\n1      Failure (parachute)\n2               No attempt\n3               No attempt\n4               No attempt\n              ...         \n96                 Success\n97                 Success\n98                 Success\n99                 Success\n100                Success\nName: Landing _Outcome, Length: 101, dtype: object"
          },
          "metadata": {}
        }
      ]
    },
    {
      "cell_type": "code",
      "source": "mask = df['Landing _Outcome'] == 'Success (ground pad)'\n\ndf[mask].head(1).Date",
      "metadata": {
        "trusted": true
      },
      "execution_count": 37,
      "outputs": [
        {
          "execution_count": 37,
          "output_type": "execute_result",
          "data": {
            "text/plain": "19   2015-12-22\nName: Date, dtype: datetime64[ns]"
          },
          "metadata": {}
        }
      ]
    },
    {
      "cell_type": "code",
      "source": "mask = (df['PAYLOAD_MASS__KG_'] < 6000) & (df['PAYLOAD_MASS__KG_'] > 4000)\ndf_boost = df[mask]\ndf_boost['Booster_Version'].unique()",
      "metadata": {
        "trusted": true
      },
      "execution_count": 38,
      "outputs": [
        {
          "execution_count": 38,
          "output_type": "execute_result",
          "data": {
            "text/plain": "array(['F9 v1.1', 'F9 v1.1 B1011', 'F9 v1.1 B1014', 'F9 v1.1 B1016',\n       'F9 FT B1020', 'F9 FT B1022', 'F9 FT B1026', 'F9 FT B1030',\n       'F9 FT  B1021.2', 'F9 FT B1032.1', 'F9 B4 B1040.1',\n       'F9 FT  B1031.2', 'F9 B4 B1043.1', 'F9 FT  B1032.2',\n       'F9 B4  B1040.2', 'F9 B5 B1046.2', 'F9 B5 B1047.2', 'F9 B5B1054',\n       'F9 B5 B1048.3', 'F9 B5 B1051.2 ', 'F9 B5B1060.1',\n       'F9 B5 B1058.2 ', 'F9 B5B1062.1'], dtype=object)"
          },
          "metadata": {}
        }
      ]
    },
    {
      "cell_type": "code",
      "source": "df['Mission_Outcome'].value_counts()",
      "metadata": {
        "trusted": true
      },
      "execution_count": 39,
      "outputs": [
        {
          "execution_count": 39,
          "output_type": "execute_result",
          "data": {
            "text/plain": "Success                             98\nFailure (in flight)                  1\nSuccess (payload status unclear)     1\nSuccess                              1\nName: Mission_Outcome, dtype: int64"
          },
          "metadata": {}
        }
      ]
    },
    {
      "cell_type": "code",
      "source": "mask = df['PAYLOAD_MASS__KG_'] == df['PAYLOAD_MASS__KG_'].max()\ndf_max = df[mask]\ndf_max['Booster_Version'].unique()",
      "metadata": {
        "trusted": true
      },
      "execution_count": 40,
      "outputs": [
        {
          "execution_count": 40,
          "output_type": "execute_result",
          "data": {
            "text/plain": "array(['F9 B5 B1048.4', 'F9 B5 B1049.4', 'F9 B5 B1051.3', 'F9 B5 B1056.4',\n       'F9 B5 B1048.5', 'F9 B5 B1051.4', 'F9 B5 B1049.5',\n       'F9 B5 B1060.2 ', 'F9 B5 B1058.3 ', 'F9 B5 B1051.6',\n       'F9 B5 B1060.3', 'F9 B5 B1049.7 '], dtype=object)"
          },
          "metadata": {}
        }
      ]
    },
    {
      "cell_type": "code",
      "source": "#Task 9\n\nmask_year = df['Date'].dt.year == 2015\nmask_failure = (df['Landing _Outcome'] == 'Failure') | (df['Landing _Outcome'] == 'Failure (parachute)') | (df['Landing _Outcome'] == 'Failure (drone ship)')\ndf_fail_2015 = df[mask_year & mask_failure]\ndf_fail_2015[['Landing _Outcome', 'Booster_Version', 'Launch_Site']]",
      "metadata": {
        "trusted": true
      },
      "execution_count": 42,
      "outputs": [
        {
          "execution_count": 42,
          "output_type": "execute_result",
          "data": {
            "text/plain": "        Landing _Outcome Booster_Version  Launch_Site\n13  Failure (drone ship)   F9 v1.1 B1012  CCAFS LC-40\n16  Failure (drone ship)   F9 v1.1 B1015  CCAFS LC-40",
            "text/html": "<div>\n<style scoped>\n    .dataframe tbody tr th:only-of-type {\n        vertical-align: middle;\n    }\n\n    .dataframe tbody tr th {\n        vertical-align: top;\n    }\n\n    .dataframe thead th {\n        text-align: right;\n    }\n</style>\n<table border=\"1\" class=\"dataframe\">\n  <thead>\n    <tr style=\"text-align: right;\">\n      <th></th>\n      <th>Landing _Outcome</th>\n      <th>Booster_Version</th>\n      <th>Launch_Site</th>\n    </tr>\n  </thead>\n  <tbody>\n    <tr>\n      <th>13</th>\n      <td>Failure (drone ship)</td>\n      <td>F9 v1.1 B1012</td>\n      <td>CCAFS LC-40</td>\n    </tr>\n    <tr>\n      <th>16</th>\n      <td>Failure (drone ship)</td>\n      <td>F9 v1.1 B1015</td>\n      <td>CCAFS LC-40</td>\n    </tr>\n  </tbody>\n</table>\n</div>"
          },
          "metadata": {}
        }
      ]
    },
    {
      "cell_type": "code",
      "source": "df['Landing _Outcome'].unique()",
      "metadata": {
        "trusted": true
      },
      "execution_count": 41,
      "outputs": [
        {
          "execution_count": 41,
          "output_type": "execute_result",
          "data": {
            "text/plain": "array(['Failure (parachute)', 'No attempt', 'Uncontrolled (ocean)',\n       'Controlled (ocean)', 'Failure (drone ship)',\n       'Precluded (drone ship)', 'Success (ground pad)',\n       'Success (drone ship)', 'Success', 'Failure', 'No attempt '],\n      dtype=object)"
          },
          "metadata": {}
        }
      ]
    },
    {
      "cell_type": "code",
      "source": "import datetime as dt",
      "metadata": {
        "trusted": true
      },
      "execution_count": 46,
      "outputs": []
    },
    {
      "cell_type": "code",
      "source": "#Task 10\n\nmask_dates = (df['Date'] > dt.datetime(2010,6,4)) & (df['Date'] < dt.datetime(2017,3,20))\n\ndf[mask_dates].sort_values('Date', ascending = False)",
      "metadata": {
        "trusted": true
      },
      "execution_count": 48,
      "outputs": [
        {
          "execution_count": 48,
          "output_type": "execute_result",
          "data": {
            "text/plain": "         Date Time (UTC) Booster_Version  Launch_Site  \\\n30 2017-03-16   06:00:00     F9 FT B1030   KSC LC-39A   \n34 2017-03-06   21:07:00   F9 FT B1035.1   KSC LC-39A   \n29 2017-02-19   14:39:00   F9 FT B1031.1   KSC LC-39A   \n28 2017-01-14   17:54:00   F9 FT B1029.1  VAFB SLC-4E   \n32 2017-01-05   11:15:00   F9 FT B1032.1   KSC LC-39A   \n27 2016-08-14   05:26:00     F9 FT B1026  CCAFS LC-40   \n22 2016-08-04   20:43:00   F9 FT B1021.1  CCAFS LC-40   \n26 2016-07-18   04:45:00   F9 FT B1025.1  CCAFS LC-40   \n25 2016-06-15   14:29:00     F9 FT B1024  CCAFS LC-40   \n23 2016-06-05   05:21:00     F9 FT B1022  CCAFS LC-40   \n24 2016-05-27   21:39:00   F9 FT B1023.1  CCAFS LC-40   \n21 2016-04-03   23:35:00     F9 FT B1020  CCAFS LC-40   \n20 2016-01-17   18:42:00   F9 v1.1 B1017  VAFB SLC-4E   \n19 2015-12-22   01:29:00     F9 FT B1019  CCAFS LC-40   \n14 2015-11-02   23:03:00   F9 v1.1 B1013  CCAFS LC-40   \n13 2015-10-01   09:47:00   F9 v1.1 B1012  CCAFS LC-40   \n18 2015-06-28   14:21:00   F9 v1.1 B1018  CCAFS LC-40   \n17 2015-04-27   23:03:00   F9 v1.1 B1016  CCAFS LC-40   \n16 2015-04-14   20:10:00   F9 v1.1 B1015  CCAFS LC-40   \n15 2015-02-03   03:50:00   F9 v1.1 B1014  CCAFS LC-40   \n12 2014-09-21   05:52:00   F9 v1.1 B1010  CCAFS LC-40   \n9  2014-07-14   15:15:00         F9 v1.1  CCAFS LC-40   \n11 2014-07-09   05:00:00   F9 v1.1 B1011  CCAFS LC-40   \n7  2014-06-01   22:06:00         F9 v1.1  CCAFS LC-40   \n10 2014-05-08   08:00:00         F9 v1.1  CCAFS LC-40   \n8  2014-04-18   19:25:00         F9 v1.1  CCAFS LC-40   \n5  2013-09-29   16:00:00  F9 v1.1  B1003  VAFB SLC-4E   \n6  2013-03-12   22:41:00         F9 v1.1  CCAFS LC-40   \n4  2013-01-03   15:10:00  F9 v1.0  B0007  CCAFS LC-40   \n3  2012-08-10   00:35:00  F9 v1.0  B0006  CCAFS LC-40   \n2  2012-05-22   07:44:00  F9 v1.0  B0005  CCAFS LC-40   \n1  2010-08-12   15:43:00  F9 v1.0  B0004  CCAFS LC-40   \n\n                                              Payload  PAYLOAD_MASS__KG_  \\\n30                                        EchoStar 23               5600   \n34                                      SpaceX CRS-11               2708   \n29                                      SpaceX CRS-10               2490   \n28                                     Iridium NEXT 1               9600   \n32                                            NROL-76               5300   \n27                                           JCSAT-16               4600   \n22                                       SpaceX CRS-8               3136   \n26                                       SpaceX CRS-9               2257   \n25                         ABS-2A Eutelsat 117 West B               3600   \n23                                           JCSAT-14               4696   \n24                                          Thaicom 8               3100   \n21                                              SES-9               5271   \n20                                            Jason-3                553   \n19           OG2 Mission 2  11 Orbcomm-OG2 satellites               2034   \n14                                             DSCOVR                570   \n13                                       SpaceX CRS-5               2395   \n18                                       SpaceX CRS-7               1952   \n17                             Turkmen 52 / MonacoSAT               4707   \n16                                       SpaceX CRS-6               1898   \n15                         ABS-3A Eutelsat 115 West B               4159   \n12                                       SpaceX CRS-4               2216   \n9             OG2 Mission 1  6 Orbcomm-OG2 satellites               1316   \n11                                          AsiaSat 6               4428   \n7                                           Thaicom 6               3325   \n10                                          AsiaSat 8               4535   \n8                                        SpaceX CRS-3               2296   \n5                                            CASSIOPE                500   \n6                                               SES-8               3170   \n4                                        SpaceX CRS-2                677   \n3                                        SpaceX CRS-1                500   \n2                               Dragon demo flight C2                525   \n1   Dragon demo flight C1, two CubeSats, barrel of...                  0   \n\n        Orbit                            Customer      Mission_Outcome  \\\n30        GTO                            EchoStar              Success   \n34  LEO (ISS)                          NASA (CRS)              Success   \n29  LEO (ISS)                          NASA (CRS)              Success   \n28  Polar LEO              Iridium Communications              Success   \n32        LEO                                 NRO              Success   \n27        GTO              SKY Perfect JSAT Group              Success   \n22  LEO (ISS)                          NASA (CRS)              Success   \n26  LEO (ISS)                          NASA (CRS)              Success   \n25        GTO                        ABS Eutelsat              Success   \n23        GTO              SKY Perfect JSAT Group              Success   \n24        GTO                             Thaicom              Success   \n21        GTO                                 SES              Success   \n20        LEO                NASA (LSP) NOAA CNES              Success   \n19        LEO                             Orbcomm              Success   \n14        HEO            U.S. Air Force NASA NOAA              Success   \n13  LEO (ISS)                          NASA (CRS)              Success   \n18  LEO (ISS)                          NASA (CRS)  Failure (in flight)   \n17        GTO  Turkmenistan National Space Agency              Success   \n16  LEO (ISS)                          NASA (CRS)              Success   \n15        GTO                        ABS Eutelsat              Success   \n12  LEO (ISS)                          NASA (CRS)              Success   \n9         LEO                             Orbcomm              Success   \n11        GTO                             AsiaSat              Success   \n7         GTO                             Thaicom              Success   \n10        GTO                             AsiaSat              Success   \n8   LEO (ISS)                          NASA (CRS)              Success   \n5   Polar LEO                                 MDA              Success   \n6         GTO                                 SES              Success   \n4   LEO (ISS)                          NASA (CRS)              Success   \n3   LEO (ISS)                          NASA (CRS)              Success   \n2   LEO (ISS)                         NASA (COTS)              Success   \n1   LEO (ISS)                     NASA (COTS) NRO              Success   \n\n          Landing _Outcome  \n30              No attempt  \n34    Success (ground pad)  \n29    Success (ground pad)  \n28    Success (drone ship)  \n32    Success (ground pad)  \n27    Success (drone ship)  \n22    Success (drone ship)  \n26    Success (ground pad)  \n25    Failure (drone ship)  \n23    Success (drone ship)  \n24    Success (drone ship)  \n21    Failure (drone ship)  \n20    Failure (drone ship)  \n19    Success (ground pad)  \n14      Controlled (ocean)  \n13    Failure (drone ship)  \n18  Precluded (drone ship)  \n17              No attempt  \n16    Failure (drone ship)  \n15              No attempt  \n12    Uncontrolled (ocean)  \n9       Controlled (ocean)  \n11              No attempt  \n7               No attempt  \n10              No attempt  \n8       Controlled (ocean)  \n5     Uncontrolled (ocean)  \n6               No attempt  \n4               No attempt  \n3               No attempt  \n2               No attempt  \n1      Failure (parachute)  ",
            "text/html": "<div>\n<style scoped>\n    .dataframe tbody tr th:only-of-type {\n        vertical-align: middle;\n    }\n\n    .dataframe tbody tr th {\n        vertical-align: top;\n    }\n\n    .dataframe thead th {\n        text-align: right;\n    }\n</style>\n<table border=\"1\" class=\"dataframe\">\n  <thead>\n    <tr style=\"text-align: right;\">\n      <th></th>\n      <th>Date</th>\n      <th>Time (UTC)</th>\n      <th>Booster_Version</th>\n      <th>Launch_Site</th>\n      <th>Payload</th>\n      <th>PAYLOAD_MASS__KG_</th>\n      <th>Orbit</th>\n      <th>Customer</th>\n      <th>Mission_Outcome</th>\n      <th>Landing _Outcome</th>\n    </tr>\n  </thead>\n  <tbody>\n    <tr>\n      <th>30</th>\n      <td>2017-03-16</td>\n      <td>06:00:00</td>\n      <td>F9 FT B1030</td>\n      <td>KSC LC-39A</td>\n      <td>EchoStar 23</td>\n      <td>5600</td>\n      <td>GTO</td>\n      <td>EchoStar</td>\n      <td>Success</td>\n      <td>No attempt</td>\n    </tr>\n    <tr>\n      <th>34</th>\n      <td>2017-03-06</td>\n      <td>21:07:00</td>\n      <td>F9 FT B1035.1</td>\n      <td>KSC LC-39A</td>\n      <td>SpaceX CRS-11</td>\n      <td>2708</td>\n      <td>LEO (ISS)</td>\n      <td>NASA (CRS)</td>\n      <td>Success</td>\n      <td>Success (ground pad)</td>\n    </tr>\n    <tr>\n      <th>29</th>\n      <td>2017-02-19</td>\n      <td>14:39:00</td>\n      <td>F9 FT B1031.1</td>\n      <td>KSC LC-39A</td>\n      <td>SpaceX CRS-10</td>\n      <td>2490</td>\n      <td>LEO (ISS)</td>\n      <td>NASA (CRS)</td>\n      <td>Success</td>\n      <td>Success (ground pad)</td>\n    </tr>\n    <tr>\n      <th>28</th>\n      <td>2017-01-14</td>\n      <td>17:54:00</td>\n      <td>F9 FT B1029.1</td>\n      <td>VAFB SLC-4E</td>\n      <td>Iridium NEXT 1</td>\n      <td>9600</td>\n      <td>Polar LEO</td>\n      <td>Iridium Communications</td>\n      <td>Success</td>\n      <td>Success (drone ship)</td>\n    </tr>\n    <tr>\n      <th>32</th>\n      <td>2017-01-05</td>\n      <td>11:15:00</td>\n      <td>F9 FT B1032.1</td>\n      <td>KSC LC-39A</td>\n      <td>NROL-76</td>\n      <td>5300</td>\n      <td>LEO</td>\n      <td>NRO</td>\n      <td>Success</td>\n      <td>Success (ground pad)</td>\n    </tr>\n    <tr>\n      <th>27</th>\n      <td>2016-08-14</td>\n      <td>05:26:00</td>\n      <td>F9 FT B1026</td>\n      <td>CCAFS LC-40</td>\n      <td>JCSAT-16</td>\n      <td>4600</td>\n      <td>GTO</td>\n      <td>SKY Perfect JSAT Group</td>\n      <td>Success</td>\n      <td>Success (drone ship)</td>\n    </tr>\n    <tr>\n      <th>22</th>\n      <td>2016-08-04</td>\n      <td>20:43:00</td>\n      <td>F9 FT B1021.1</td>\n      <td>CCAFS LC-40</td>\n      <td>SpaceX CRS-8</td>\n      <td>3136</td>\n      <td>LEO (ISS)</td>\n      <td>NASA (CRS)</td>\n      <td>Success</td>\n      <td>Success (drone ship)</td>\n    </tr>\n    <tr>\n      <th>26</th>\n      <td>2016-07-18</td>\n      <td>04:45:00</td>\n      <td>F9 FT B1025.1</td>\n      <td>CCAFS LC-40</td>\n      <td>SpaceX CRS-9</td>\n      <td>2257</td>\n      <td>LEO (ISS)</td>\n      <td>NASA (CRS)</td>\n      <td>Success</td>\n      <td>Success (ground pad)</td>\n    </tr>\n    <tr>\n      <th>25</th>\n      <td>2016-06-15</td>\n      <td>14:29:00</td>\n      <td>F9 FT B1024</td>\n      <td>CCAFS LC-40</td>\n      <td>ABS-2A Eutelsat 117 West B</td>\n      <td>3600</td>\n      <td>GTO</td>\n      <td>ABS Eutelsat</td>\n      <td>Success</td>\n      <td>Failure (drone ship)</td>\n    </tr>\n    <tr>\n      <th>23</th>\n      <td>2016-06-05</td>\n      <td>05:21:00</td>\n      <td>F9 FT B1022</td>\n      <td>CCAFS LC-40</td>\n      <td>JCSAT-14</td>\n      <td>4696</td>\n      <td>GTO</td>\n      <td>SKY Perfect JSAT Group</td>\n      <td>Success</td>\n      <td>Success (drone ship)</td>\n    </tr>\n    <tr>\n      <th>24</th>\n      <td>2016-05-27</td>\n      <td>21:39:00</td>\n      <td>F9 FT B1023.1</td>\n      <td>CCAFS LC-40</td>\n      <td>Thaicom 8</td>\n      <td>3100</td>\n      <td>GTO</td>\n      <td>Thaicom</td>\n      <td>Success</td>\n      <td>Success (drone ship)</td>\n    </tr>\n    <tr>\n      <th>21</th>\n      <td>2016-04-03</td>\n      <td>23:35:00</td>\n      <td>F9 FT B1020</td>\n      <td>CCAFS LC-40</td>\n      <td>SES-9</td>\n      <td>5271</td>\n      <td>GTO</td>\n      <td>SES</td>\n      <td>Success</td>\n      <td>Failure (drone ship)</td>\n    </tr>\n    <tr>\n      <th>20</th>\n      <td>2016-01-17</td>\n      <td>18:42:00</td>\n      <td>F9 v1.1 B1017</td>\n      <td>VAFB SLC-4E</td>\n      <td>Jason-3</td>\n      <td>553</td>\n      <td>LEO</td>\n      <td>NASA (LSP) NOAA CNES</td>\n      <td>Success</td>\n      <td>Failure (drone ship)</td>\n    </tr>\n    <tr>\n      <th>19</th>\n      <td>2015-12-22</td>\n      <td>01:29:00</td>\n      <td>F9 FT B1019</td>\n      <td>CCAFS LC-40</td>\n      <td>OG2 Mission 2  11 Orbcomm-OG2 satellites</td>\n      <td>2034</td>\n      <td>LEO</td>\n      <td>Orbcomm</td>\n      <td>Success</td>\n      <td>Success (ground pad)</td>\n    </tr>\n    <tr>\n      <th>14</th>\n      <td>2015-11-02</td>\n      <td>23:03:00</td>\n      <td>F9 v1.1 B1013</td>\n      <td>CCAFS LC-40</td>\n      <td>DSCOVR</td>\n      <td>570</td>\n      <td>HEO</td>\n      <td>U.S. Air Force NASA NOAA</td>\n      <td>Success</td>\n      <td>Controlled (ocean)</td>\n    </tr>\n    <tr>\n      <th>13</th>\n      <td>2015-10-01</td>\n      <td>09:47:00</td>\n      <td>F9 v1.1 B1012</td>\n      <td>CCAFS LC-40</td>\n      <td>SpaceX CRS-5</td>\n      <td>2395</td>\n      <td>LEO (ISS)</td>\n      <td>NASA (CRS)</td>\n      <td>Success</td>\n      <td>Failure (drone ship)</td>\n    </tr>\n    <tr>\n      <th>18</th>\n      <td>2015-06-28</td>\n      <td>14:21:00</td>\n      <td>F9 v1.1 B1018</td>\n      <td>CCAFS LC-40</td>\n      <td>SpaceX CRS-7</td>\n      <td>1952</td>\n      <td>LEO (ISS)</td>\n      <td>NASA (CRS)</td>\n      <td>Failure (in flight)</td>\n      <td>Precluded (drone ship)</td>\n    </tr>\n    <tr>\n      <th>17</th>\n      <td>2015-04-27</td>\n      <td>23:03:00</td>\n      <td>F9 v1.1 B1016</td>\n      <td>CCAFS LC-40</td>\n      <td>Turkmen 52 / MonacoSAT</td>\n      <td>4707</td>\n      <td>GTO</td>\n      <td>Turkmenistan National Space Agency</td>\n      <td>Success</td>\n      <td>No attempt</td>\n    </tr>\n    <tr>\n      <th>16</th>\n      <td>2015-04-14</td>\n      <td>20:10:00</td>\n      <td>F9 v1.1 B1015</td>\n      <td>CCAFS LC-40</td>\n      <td>SpaceX CRS-6</td>\n      <td>1898</td>\n      <td>LEO (ISS)</td>\n      <td>NASA (CRS)</td>\n      <td>Success</td>\n      <td>Failure (drone ship)</td>\n    </tr>\n    <tr>\n      <th>15</th>\n      <td>2015-02-03</td>\n      <td>03:50:00</td>\n      <td>F9 v1.1 B1014</td>\n      <td>CCAFS LC-40</td>\n      <td>ABS-3A Eutelsat 115 West B</td>\n      <td>4159</td>\n      <td>GTO</td>\n      <td>ABS Eutelsat</td>\n      <td>Success</td>\n      <td>No attempt</td>\n    </tr>\n    <tr>\n      <th>12</th>\n      <td>2014-09-21</td>\n      <td>05:52:00</td>\n      <td>F9 v1.1 B1010</td>\n      <td>CCAFS LC-40</td>\n      <td>SpaceX CRS-4</td>\n      <td>2216</td>\n      <td>LEO (ISS)</td>\n      <td>NASA (CRS)</td>\n      <td>Success</td>\n      <td>Uncontrolled (ocean)</td>\n    </tr>\n    <tr>\n      <th>9</th>\n      <td>2014-07-14</td>\n      <td>15:15:00</td>\n      <td>F9 v1.1</td>\n      <td>CCAFS LC-40</td>\n      <td>OG2 Mission 1  6 Orbcomm-OG2 satellites</td>\n      <td>1316</td>\n      <td>LEO</td>\n      <td>Orbcomm</td>\n      <td>Success</td>\n      <td>Controlled (ocean)</td>\n    </tr>\n    <tr>\n      <th>11</th>\n      <td>2014-07-09</td>\n      <td>05:00:00</td>\n      <td>F9 v1.1 B1011</td>\n      <td>CCAFS LC-40</td>\n      <td>AsiaSat 6</td>\n      <td>4428</td>\n      <td>GTO</td>\n      <td>AsiaSat</td>\n      <td>Success</td>\n      <td>No attempt</td>\n    </tr>\n    <tr>\n      <th>7</th>\n      <td>2014-06-01</td>\n      <td>22:06:00</td>\n      <td>F9 v1.1</td>\n      <td>CCAFS LC-40</td>\n      <td>Thaicom 6</td>\n      <td>3325</td>\n      <td>GTO</td>\n      <td>Thaicom</td>\n      <td>Success</td>\n      <td>No attempt</td>\n    </tr>\n    <tr>\n      <th>10</th>\n      <td>2014-05-08</td>\n      <td>08:00:00</td>\n      <td>F9 v1.1</td>\n      <td>CCAFS LC-40</td>\n      <td>AsiaSat 8</td>\n      <td>4535</td>\n      <td>GTO</td>\n      <td>AsiaSat</td>\n      <td>Success</td>\n      <td>No attempt</td>\n    </tr>\n    <tr>\n      <th>8</th>\n      <td>2014-04-18</td>\n      <td>19:25:00</td>\n      <td>F9 v1.1</td>\n      <td>CCAFS LC-40</td>\n      <td>SpaceX CRS-3</td>\n      <td>2296</td>\n      <td>LEO (ISS)</td>\n      <td>NASA (CRS)</td>\n      <td>Success</td>\n      <td>Controlled (ocean)</td>\n    </tr>\n    <tr>\n      <th>5</th>\n      <td>2013-09-29</td>\n      <td>16:00:00</td>\n      <td>F9 v1.1  B1003</td>\n      <td>VAFB SLC-4E</td>\n      <td>CASSIOPE</td>\n      <td>500</td>\n      <td>Polar LEO</td>\n      <td>MDA</td>\n      <td>Success</td>\n      <td>Uncontrolled (ocean)</td>\n    </tr>\n    <tr>\n      <th>6</th>\n      <td>2013-03-12</td>\n      <td>22:41:00</td>\n      <td>F9 v1.1</td>\n      <td>CCAFS LC-40</td>\n      <td>SES-8</td>\n      <td>3170</td>\n      <td>GTO</td>\n      <td>SES</td>\n      <td>Success</td>\n      <td>No attempt</td>\n    </tr>\n    <tr>\n      <th>4</th>\n      <td>2013-01-03</td>\n      <td>15:10:00</td>\n      <td>F9 v1.0  B0007</td>\n      <td>CCAFS LC-40</td>\n      <td>SpaceX CRS-2</td>\n      <td>677</td>\n      <td>LEO (ISS)</td>\n      <td>NASA (CRS)</td>\n      <td>Success</td>\n      <td>No attempt</td>\n    </tr>\n    <tr>\n      <th>3</th>\n      <td>2012-08-10</td>\n      <td>00:35:00</td>\n      <td>F9 v1.0  B0006</td>\n      <td>CCAFS LC-40</td>\n      <td>SpaceX CRS-1</td>\n      <td>500</td>\n      <td>LEO (ISS)</td>\n      <td>NASA (CRS)</td>\n      <td>Success</td>\n      <td>No attempt</td>\n    </tr>\n    <tr>\n      <th>2</th>\n      <td>2012-05-22</td>\n      <td>07:44:00</td>\n      <td>F9 v1.0  B0005</td>\n      <td>CCAFS LC-40</td>\n      <td>Dragon demo flight C2</td>\n      <td>525</td>\n      <td>LEO (ISS)</td>\n      <td>NASA (COTS)</td>\n      <td>Success</td>\n      <td>No attempt</td>\n    </tr>\n    <tr>\n      <th>1</th>\n      <td>2010-08-12</td>\n      <td>15:43:00</td>\n      <td>F9 v1.0  B0004</td>\n      <td>CCAFS LC-40</td>\n      <td>Dragon demo flight C1, two CubeSats, barrel of...</td>\n      <td>0</td>\n      <td>LEO (ISS)</td>\n      <td>NASA (COTS) NRO</td>\n      <td>Success</td>\n      <td>Failure (parachute)</td>\n    </tr>\n  </tbody>\n</table>\n</div>"
          },
          "metadata": {}
        }
      ]
    }
  ]
}